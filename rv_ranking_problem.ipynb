{
  "nbformat": 4,
  "nbformat_minor": 0,
  "metadata": {
    "colab": {
      "name": "rv_ranking_problem.ipynb",
      "provenance": [],
      "collapsed_sections": [],
      "include_colab_link": true
    },
    "kernelspec": {
      "name": "python3",
      "display_name": "Python 3"
    },
    "accelerator": "GPU"
  },
  "cells": [
    {
      "cell_type": "markdown",
      "metadata": {
        "id": "view-in-github",
        "colab_type": "text"
      },
      "source": [
        "<a href=\"https://colab.research.google.com/github/hodeld/rv-ranking-problem/blob/master/rv_ranking_problem.ipynb\" target=\"_parent\"><img src=\"https://colab.research.google.com/assets/colab-badge.svg\" alt=\"Open In Colab\"/></a>"
      ]
    },
    {
      "cell_type": "markdown",
      "metadata": {
        "colab_type": "text",
        "id": "MHkcIl4E-Fgf"
      },
      "source": [
        "# Tutorial: TF-Ranking for sparse features\n",
        "\n"
      ]
    },
    {
      "cell_type": "markdown",
      "metadata": {
        "colab_type": "text",
        "id": "V8tMYn22vtDV"
      },
      "source": [
        "This tutorial is an end-to-end walkthrough of training a TensorFlow Ranking (TF-Ranking) neural network model which incorporates sparse textual features.\n",
        "\n",
        "A Python script version of this code is available [here](https://github.com/tensorflow/ranking/blob/master/tensorflow_ranking/examples/tf_ranking_tfrecord.py). The script version supports flags for hyperparameters, and advanced use-cases like [Document Interaction Networks](https://arxiv.org/pdf/1910.09676.pdf).\n",
        "\n",
        "TF-Ranking is a library for solving large scale ranking problems using deep learning. TF-Ranking can handle heterogeneous dense and sparse features, and scales up to millions of data points. For more details, please read the technical paper published on [arXiv](https://arxiv.org/abs/1812.00073).\n",
        "\n",
        "<table class=\"tfo-notebook-buttons\" align=\"left\">\n",
        "  <td>\n",
        "    <a target=\"_blank\" href=\"https://colab.research.google.com/github/tensorflow/ranking/blob/master/tensorflow_ranking/examples/handling_sparse_features.ipynb\"><img src=\"https://www.tensorflow.org/images/colab_logo_32px.png\" />Run in Google Colab</a>\n",
        "  </td>\n",
        "  <td>\n",
        "    <a target=\"_blank\" href=\"https://github.com/tensorflow/ranking/blob/master/tensorflow_ranking/examples/handling_sparse_features.ipynb\"><img src=\"https://www.tensorflow.org/images/GitHub-Mark-32px.png\" />View source on GitHub</a>\n",
        "  </td>\n",
        "</table>"
      ]
    },
    {
      "cell_type": "markdown",
      "metadata": {
        "colab_type": "text",
        "id": "xmGZHWkdMEdB"
      },
      "source": [
        "## Motivation\n",
        "\n",
        "Learning to Rank (LTR) deals with learning to optimally order a list of examples, given some context. For instance, in search applications, examples are documents and context is the query.\n",
        "\n",
        "These models are usually trained using user relevance feedback, which can be explicit (human ratings) or implicit (clicks).\n",
        "\n",
        "This tutorial demonstrates how to build ranking estimators over sparse features, such as textual data. Textual data is prevalent in several settings for ranking, and plays a significant role is relevance judgment by a user.\n",
        "\n",
        "In three different LTR scenarios, the following textual features provide useful signals for ranking:\n",
        "\n",
        "*   Search: queries and document titles\n",
        "*   Question Answering: questions and answers\n",
        "*   Recommendation: titles of items and their descriptions\n",
        "\n",
        "Hence it is important for LTR models to effectively incorporate textual features."
      ]
    },
    {
      "cell_type": "markdown",
      "metadata": {
        "colab_type": "text",
        "id": "A5A2UcQM1b7S"
      },
      "source": [
        "## Task: Ranking over Question-Answering data\n",
        "\n"
      ]
    },
    {
      "cell_type": "markdown",
      "metadata": {
        "colab_type": "text",
        "id": "JNilCoqq1jJn"
      },
      "source": [
        "### ANTIQUE: A Question Answering Dataset\n",
        "\n",
        "For the purpose of this tutorial, we consider ranking problem over ANTIQUE, a question-answering dataset. Given a query, and a list of answers, the objective it to maximize a rank related metric (say NDCG).\n",
        "\n",
        "[ANTIQUE](http://hamedz.ir/resources/) is a publicly available dataset for open-domain non-factoid question answering, collected over Yahoo! answers.\n",
        "\n",
        "Each question has a list of answers, whose relevance are graded on a scale of 1-5.\n",
        "\n",
        "The list size can vary depending on the query, so we use a fixed \"list size\" of 50, where the list is either truncated or padded with dummy values.\n",
        "\n",
        "This dataset is a suitable one for learning-to-rank scenario. The dataset is split into 2206 queries for training and 200 queries for testing. For more details, please read the tehcnical paper on [arXiv](https://arxiv.org/pdf/1905.08957.pdf)."
      ]
    },
    {
      "cell_type": "code",
      "metadata": {
        "colab_type": "code",
        "id": "Mwxtsi4wqoOJ",
        "colab": {}
      },
      "source": [
        "#!wget -O \"/tmp/vocab.txt\" \"http://ciir.cs.umass.edu/downloads/Antique/tf-ranking/vocab.txt\"\n",
        "#!wget -O \"/tmp/train.tfrecords\" \"http://ciir.cs.umass.edu/downloads/Antique/tf-ranking/ELWC/train.tfrecords\"\n",
        "#!wget -O \"/tmp/test.tfrecords\" \"http://ciir.cs.umass.edu/downloads/Antique/tf-ranking//ELWC/test.tfrecords\""
      ],
      "execution_count": null,
      "outputs": []
    },
    {
      "cell_type": "markdown",
      "metadata": {
        "colab_type": "text",
        "id": "sIxFuiy5qh6L"
      },
      "source": [
        "\n",
        "Download base files"
      ]
    },
    {
      "cell_type": "code",
      "metadata": {
        "id": "AMj-vFn9EtEO",
        "colab_type": "code",
        "colab": {
          "base_uri": "https://localhost:8080/",
          "height": 68
        },
        "outputId": "d244c2f6-512e-4bdf-f477-b944adfe9706"
      },
      "source": [
        "import sys\n",
        "#choose in runtime type\n",
        "print ('python-version: ', sys.version)\n",
        "import pandas as pd\n",
        "\n",
        "from google.colab import drive\n",
        "drive.mount(\"/content/drive\", force_remount=False)\n",
        "main_path = '/content/drive/My Drive/Colab Notebooks/rbs-data/alopt_files/'\n",
        "timelines_raw = pd.read_csv(main_path+'timelines.csv', index_col =0) #, header=0)\n",
        "samples = pd.read_csv(main_path+'Samples.csv')\n",
        "rvs = pd.read_csv(main_path+'RVs.csv')\n",
        "allevents = pd.read_csv(main_path+'AllEvents.csv', index_col =0)\n",
        "rvfirstev_raw = pd.read_csv(main_path+'rvfirstev.csv', index_col =0)\n",
        "\n",
        "\n",
        "#data, categories, tendencies = ReadCsv('/content/drive/My Drive/Colab Notebooks/etiki_data','test.csv','companies.csv', 'categories.csv','references.csv','tendencies.csv', 'topics.csv')\n"
      ],
      "execution_count": null,
      "outputs": [
        {
          "output_type": "stream",
          "text": [
            "python-version:  3.6.9 (default, Nov  7 2019, 10:44:02) \n",
            "[GCC 8.3.0]\n",
            "Drive already mounted at /content/drive; to attempt to forcibly remount, call drive.mount(\"/content/drive\", force_remount=True).\n"
          ],
          "name": "stdout"
        }
      ]
    },
    {
      "cell_type": "markdown",
      "metadata": {
        "id": "tVKx4wqDQ-r9",
        "colab_type": "text"
      },
      "source": [
        "Prepare train, eval and test data"
      ]
    },
    {
      "cell_type": "code",
      "metadata": {
        "id": "lAkXuKq0fV8I",
        "colab_type": "code",
        "colab": {
          "base_uri": "https://localhost:8080/",
          "height": 142
        },
        "outputId": "f9cfcf3c-6f0c-4ee9-b8ca-d6946c95c516"
      },
      "source": [
        "samples.head(3)\n",
        "#allevents.head(5)\n",
        "#rvfirstev_raw.head(5)\n",
        "#timelines_raw.head(3)"
      ],
      "execution_count": null,
      "outputs": [
        {
          "output_type": "execute_result",
          "data": {
            "text/html": [
              "<div>\n",
              "<style scoped>\n",
              "    .dataframe tbody tr th:only-of-type {\n",
              "        vertical-align: middle;\n",
              "    }\n",
              "\n",
              "    .dataframe tbody tr th {\n",
              "        vertical-align: top;\n",
              "    }\n",
              "\n",
              "    .dataframe thead th {\n",
              "        text-align: right;\n",
              "    }\n",
              "</style>\n",
              "<table border=\"1\" class=\"dataframe\">\n",
              "  <thead>\n",
              "    <tr style=\"text-align: right;\">\n",
              "      <th></th>\n",
              "      <th>Id</th>\n",
              "      <th>Location</th>\n",
              "      <th>Dbid</th>\n",
              "      <th>Day evs</th>\n",
              "      <th>Sevs</th>\n",
              "      <th>Rv eq</th>\n",
              "      <th>Start</th>\n",
              "      <th>End</th>\n",
              "      <th>Rv</th>\n",
              "      <th>Group</th>\n",
              "      <th>Category</th>\n",
              "      <th>Type</th>\n",
              "      <th>Rv ff</th>\n",
              "      <th>Gespever</th>\n",
              "      <th>Hwx</th>\n",
              "      <th>Uma</th>\n",
              "    </tr>\n",
              "  </thead>\n",
              "  <tbody>\n",
              "    <tr>\n",
              "      <th>0</th>\n",
              "      <td>21195</td>\n",
              "      <td>2</td>\n",
              "      <td>21195</td>\n",
              "      <td>21195;21194</td>\n",
              "      <td>32309</td>\n",
              "      <td>NaN</td>\n",
              "      <td>2628</td>\n",
              "      <td>2664</td>\n",
              "      <td>33</td>\n",
              "      <td>3</td>\n",
              "      <td>1</td>\n",
              "      <td>22</td>\n",
              "      <td>33</td>\n",
              "      <td>0</td>\n",
              "      <td>0</td>\n",
              "      <td>0</td>\n",
              "    </tr>\n",
              "    <tr>\n",
              "      <th>1</th>\n",
              "      <td>21585</td>\n",
              "      <td>2</td>\n",
              "      <td>21585</td>\n",
              "      <td>21585</td>\n",
              "      <td>32454;32456;32455</td>\n",
              "      <td>NaN</td>\n",
              "      <td>2628</td>\n",
              "      <td>2664</td>\n",
              "      <td>34</td>\n",
              "      <td>3</td>\n",
              "      <td>1</td>\n",
              "      <td>23</td>\n",
              "      <td>34</td>\n",
              "      <td>0</td>\n",
              "      <td>0</td>\n",
              "      <td>0</td>\n",
              "    </tr>\n",
              "    <tr>\n",
              "      <th>2</th>\n",
              "      <td>21194</td>\n",
              "      <td>2</td>\n",
              "      <td>21194</td>\n",
              "      <td>21195;21194</td>\n",
              "      <td>32307</td>\n",
              "      <td>NaN</td>\n",
              "      <td>2536</td>\n",
              "      <td>2568</td>\n",
              "      <td>34</td>\n",
              "      <td>3</td>\n",
              "      <td>1</td>\n",
              "      <td>22</td>\n",
              "      <td>34</td>\n",
              "      <td>2</td>\n",
              "      <td>1</td>\n",
              "      <td>0</td>\n",
              "    </tr>\n",
              "  </tbody>\n",
              "</table>\n",
              "</div>"
            ],
            "text/plain": [
              "      Id  Location   Dbid      Day evs  ... Rv ff Gespever  Hwx  Uma\n",
              "0  21195         2  21195  21195;21194  ...    33        0    0    0\n",
              "1  21585         2  21585        21585  ...    34        0    0    0\n",
              "2  21194         2  21194  21195;21194  ...    34        2    1    0\n",
              "\n",
              "[3 rows x 16 columns]"
            ]
          },
          "metadata": {
            "tags": []
          },
          "execution_count": 4
        }
      ]
    },
    {
      "cell_type": "code",
      "metadata": {
        "colab_type": "code",
        "id": "eRbJcQIwu4uZ",
        "colab": {
          "base_uri": "https://localhost:8080/",
          "height": 239
        },
        "outputId": "b9eecac5-8544-4e71-efac-677045bab678"
      },
      "source": [
        "from datetime import datetime\n",
        "#help(timelines_raw.loc)\n",
        "dtform = '%Y-%m-%d %H:%M:%S'\n",
        "tstart = datetime.strptime(timelines_raw.loc['dt_col', '0'], dtform)\n",
        "tend = datetime.strptime(timelines_raw.loc['dt_col', '1'], dtform)  \n",
        "TD_SEQ = (tend - tstart).seconds/60\n",
        "PPH = 60/TD_SEQ\n",
        "WEEKS_B = 4 #for cutting timelines\n",
        "WEEKS_A = WEEKS_B\n",
        "KMAX = int(timelines_raw.columns[-1]) #last column name as int\n",
        "print(TD_SEQ, PPH)\n",
        "\n",
        "timelines = timelines_raw.drop(index='dt_col')\n",
        "\n",
        "#now get rv with timelines.loc[str(52)]  \n",
        "timelines.head(3)"
      ],
      "execution_count": null,
      "outputs": [
        {
          "output_type": "stream",
          "text": [
            "15.0 4.0\n"
          ],
          "name": "stdout"
        },
        {
          "output_type": "execute_result",
          "data": {
            "text/html": [
              "<div>\n",
              "<style scoped>\n",
              "    .dataframe tbody tr th:only-of-type {\n",
              "        vertical-align: middle;\n",
              "    }\n",
              "\n",
              "    .dataframe tbody tr th {\n",
              "        vertical-align: top;\n",
              "    }\n",
              "\n",
              "    .dataframe thead th {\n",
              "        text-align: right;\n",
              "    }\n",
              "</style>\n",
              "<table border=\"1\" class=\"dataframe\">\n",
              "  <thead>\n",
              "    <tr style=\"text-align: right;\">\n",
              "      <th></th>\n",
              "      <th>0</th>\n",
              "      <th>1</th>\n",
              "      <th>2</th>\n",
              "      <th>3</th>\n",
              "      <th>4</th>\n",
              "      <th>5</th>\n",
              "      <th>6</th>\n",
              "      <th>7</th>\n",
              "      <th>8</th>\n",
              "      <th>9</th>\n",
              "      <th>10</th>\n",
              "      <th>11</th>\n",
              "      <th>12</th>\n",
              "      <th>13</th>\n",
              "      <th>14</th>\n",
              "      <th>15</th>\n",
              "      <th>16</th>\n",
              "      <th>17</th>\n",
              "      <th>18</th>\n",
              "      <th>19</th>\n",
              "      <th>20</th>\n",
              "      <th>21</th>\n",
              "      <th>22</th>\n",
              "      <th>23</th>\n",
              "      <th>24</th>\n",
              "      <th>25</th>\n",
              "      <th>26</th>\n",
              "      <th>27</th>\n",
              "      <th>28</th>\n",
              "      <th>29</th>\n",
              "      <th>30</th>\n",
              "      <th>31</th>\n",
              "      <th>32</th>\n",
              "      <th>33</th>\n",
              "      <th>34</th>\n",
              "      <th>35</th>\n",
              "      <th>36</th>\n",
              "      <th>37</th>\n",
              "      <th>38</th>\n",
              "      <th>39</th>\n",
              "      <th>...</th>\n",
              "      <th>2648</th>\n",
              "      <th>2649</th>\n",
              "      <th>2650</th>\n",
              "      <th>2651</th>\n",
              "      <th>2652</th>\n",
              "      <th>2653</th>\n",
              "      <th>2654</th>\n",
              "      <th>2655</th>\n",
              "      <th>2656</th>\n",
              "      <th>2657</th>\n",
              "      <th>2658</th>\n",
              "      <th>2659</th>\n",
              "      <th>2660</th>\n",
              "      <th>2661</th>\n",
              "      <th>2662</th>\n",
              "      <th>2663</th>\n",
              "      <th>2664</th>\n",
              "      <th>2665</th>\n",
              "      <th>2666</th>\n",
              "      <th>2667</th>\n",
              "      <th>2668</th>\n",
              "      <th>2669</th>\n",
              "      <th>2670</th>\n",
              "      <th>2671</th>\n",
              "      <th>2672</th>\n",
              "      <th>2673</th>\n",
              "      <th>2674</th>\n",
              "      <th>2675</th>\n",
              "      <th>2676</th>\n",
              "      <th>2677</th>\n",
              "      <th>2678</th>\n",
              "      <th>2679</th>\n",
              "      <th>2680</th>\n",
              "      <th>2681</th>\n",
              "      <th>2682</th>\n",
              "      <th>2683</th>\n",
              "      <th>2684</th>\n",
              "      <th>2685</th>\n",
              "      <th>2686</th>\n",
              "      <th>2687</th>\n",
              "    </tr>\n",
              "    <tr>\n",
              "      <th>k_col</th>\n",
              "      <th></th>\n",
              "      <th></th>\n",
              "      <th></th>\n",
              "      <th></th>\n",
              "      <th></th>\n",
              "      <th></th>\n",
              "      <th></th>\n",
              "      <th></th>\n",
              "      <th></th>\n",
              "      <th></th>\n",
              "      <th></th>\n",
              "      <th></th>\n",
              "      <th></th>\n",
              "      <th></th>\n",
              "      <th></th>\n",
              "      <th></th>\n",
              "      <th></th>\n",
              "      <th></th>\n",
              "      <th></th>\n",
              "      <th></th>\n",
              "      <th></th>\n",
              "      <th></th>\n",
              "      <th></th>\n",
              "      <th></th>\n",
              "      <th></th>\n",
              "      <th></th>\n",
              "      <th></th>\n",
              "      <th></th>\n",
              "      <th></th>\n",
              "      <th></th>\n",
              "      <th></th>\n",
              "      <th></th>\n",
              "      <th></th>\n",
              "      <th></th>\n",
              "      <th></th>\n",
              "      <th></th>\n",
              "      <th></th>\n",
              "      <th></th>\n",
              "      <th></th>\n",
              "      <th></th>\n",
              "      <th></th>\n",
              "      <th></th>\n",
              "      <th></th>\n",
              "      <th></th>\n",
              "      <th></th>\n",
              "      <th></th>\n",
              "      <th></th>\n",
              "      <th></th>\n",
              "      <th></th>\n",
              "      <th></th>\n",
              "      <th></th>\n",
              "      <th></th>\n",
              "      <th></th>\n",
              "      <th></th>\n",
              "      <th></th>\n",
              "      <th></th>\n",
              "      <th></th>\n",
              "      <th></th>\n",
              "      <th></th>\n",
              "      <th></th>\n",
              "      <th></th>\n",
              "      <th></th>\n",
              "      <th></th>\n",
              "      <th></th>\n",
              "      <th></th>\n",
              "      <th></th>\n",
              "      <th></th>\n",
              "      <th></th>\n",
              "      <th></th>\n",
              "      <th></th>\n",
              "      <th></th>\n",
              "      <th></th>\n",
              "      <th></th>\n",
              "      <th></th>\n",
              "      <th></th>\n",
              "      <th></th>\n",
              "      <th></th>\n",
              "      <th></th>\n",
              "      <th></th>\n",
              "      <th></th>\n",
              "      <th></th>\n",
              "    </tr>\n",
              "  </thead>\n",
              "  <tbody>\n",
              "    <tr>\n",
              "      <th>52</th>\n",
              "      <td>2</td>\n",
              "      <td>2</td>\n",
              "      <td>2</td>\n",
              "      <td>2</td>\n",
              "      <td>2</td>\n",
              "      <td>2</td>\n",
              "      <td>2</td>\n",
              "      <td>2</td>\n",
              "      <td>2</td>\n",
              "      <td>2</td>\n",
              "      <td>2</td>\n",
              "      <td>2</td>\n",
              "      <td>2</td>\n",
              "      <td>2</td>\n",
              "      <td>2</td>\n",
              "      <td>2</td>\n",
              "      <td>2</td>\n",
              "      <td>2</td>\n",
              "      <td>2</td>\n",
              "      <td>2</td>\n",
              "      <td>2</td>\n",
              "      <td>2</td>\n",
              "      <td>2</td>\n",
              "      <td>2</td>\n",
              "      <td>2</td>\n",
              "      <td>2</td>\n",
              "      <td>2</td>\n",
              "      <td>2</td>\n",
              "      <td>2</td>\n",
              "      <td>2</td>\n",
              "      <td>2</td>\n",
              "      <td>2</td>\n",
              "      <td>0</td>\n",
              "      <td>0</td>\n",
              "      <td>0</td>\n",
              "      <td>0</td>\n",
              "      <td>23</td>\n",
              "      <td>23</td>\n",
              "      <td>23</td>\n",
              "      <td>23</td>\n",
              "      <td>...</td>\n",
              "      <td>12</td>\n",
              "      <td>12</td>\n",
              "      <td>12</td>\n",
              "      <td>12</td>\n",
              "      <td>12</td>\n",
              "      <td>12</td>\n",
              "      <td>12</td>\n",
              "      <td>12</td>\n",
              "      <td>12</td>\n",
              "      <td>12</td>\n",
              "      <td>12</td>\n",
              "      <td>12</td>\n",
              "      <td>12</td>\n",
              "      <td>12</td>\n",
              "      <td>12</td>\n",
              "      <td>12</td>\n",
              "      <td>2</td>\n",
              "      <td>2</td>\n",
              "      <td>2</td>\n",
              "      <td>2</td>\n",
              "      <td>2</td>\n",
              "      <td>2</td>\n",
              "      <td>2</td>\n",
              "      <td>2</td>\n",
              "      <td>2</td>\n",
              "      <td>2</td>\n",
              "      <td>2</td>\n",
              "      <td>2</td>\n",
              "      <td>2</td>\n",
              "      <td>2</td>\n",
              "      <td>2</td>\n",
              "      <td>2</td>\n",
              "      <td>2</td>\n",
              "      <td>2</td>\n",
              "      <td>2</td>\n",
              "      <td>2</td>\n",
              "      <td>2</td>\n",
              "      <td>2</td>\n",
              "      <td>2</td>\n",
              "      <td>2</td>\n",
              "    </tr>\n",
              "    <tr>\n",
              "      <th>33</th>\n",
              "      <td>2</td>\n",
              "      <td>2</td>\n",
              "      <td>2</td>\n",
              "      <td>2</td>\n",
              "      <td>2</td>\n",
              "      <td>2</td>\n",
              "      <td>2</td>\n",
              "      <td>2</td>\n",
              "      <td>2</td>\n",
              "      <td>2</td>\n",
              "      <td>2</td>\n",
              "      <td>2</td>\n",
              "      <td>2</td>\n",
              "      <td>2</td>\n",
              "      <td>2</td>\n",
              "      <td>2</td>\n",
              "      <td>2</td>\n",
              "      <td>2</td>\n",
              "      <td>2</td>\n",
              "      <td>2</td>\n",
              "      <td>2</td>\n",
              "      <td>2</td>\n",
              "      <td>2</td>\n",
              "      <td>2</td>\n",
              "      <td>2</td>\n",
              "      <td>2</td>\n",
              "      <td>2</td>\n",
              "      <td>2</td>\n",
              "      <td>2</td>\n",
              "      <td>2</td>\n",
              "      <td>2</td>\n",
              "      <td>2</td>\n",
              "      <td>0</td>\n",
              "      <td>0</td>\n",
              "      <td>0</td>\n",
              "      <td>0</td>\n",
              "      <td>18</td>\n",
              "      <td>18</td>\n",
              "      <td>18</td>\n",
              "      <td>18</td>\n",
              "      <td>...</td>\n",
              "      <td>22</td>\n",
              "      <td>22</td>\n",
              "      <td>22</td>\n",
              "      <td>22</td>\n",
              "      <td>22</td>\n",
              "      <td>22</td>\n",
              "      <td>22</td>\n",
              "      <td>22</td>\n",
              "      <td>22</td>\n",
              "      <td>22</td>\n",
              "      <td>22</td>\n",
              "      <td>22</td>\n",
              "      <td>22</td>\n",
              "      <td>22</td>\n",
              "      <td>22</td>\n",
              "      <td>22</td>\n",
              "      <td>2</td>\n",
              "      <td>2</td>\n",
              "      <td>2</td>\n",
              "      <td>2</td>\n",
              "      <td>2</td>\n",
              "      <td>2</td>\n",
              "      <td>2</td>\n",
              "      <td>2</td>\n",
              "      <td>2</td>\n",
              "      <td>2</td>\n",
              "      <td>2</td>\n",
              "      <td>2</td>\n",
              "      <td>2</td>\n",
              "      <td>2</td>\n",
              "      <td>2</td>\n",
              "      <td>2</td>\n",
              "      <td>2</td>\n",
              "      <td>2</td>\n",
              "      <td>2</td>\n",
              "      <td>2</td>\n",
              "      <td>2</td>\n",
              "      <td>2</td>\n",
              "      <td>2</td>\n",
              "      <td>2</td>\n",
              "    </tr>\n",
              "    <tr>\n",
              "      <th>38</th>\n",
              "      <td>2</td>\n",
              "      <td>2</td>\n",
              "      <td>2</td>\n",
              "      <td>2</td>\n",
              "      <td>2</td>\n",
              "      <td>2</td>\n",
              "      <td>2</td>\n",
              "      <td>2</td>\n",
              "      <td>2</td>\n",
              "      <td>2</td>\n",
              "      <td>2</td>\n",
              "      <td>2</td>\n",
              "      <td>2</td>\n",
              "      <td>2</td>\n",
              "      <td>2</td>\n",
              "      <td>2</td>\n",
              "      <td>2</td>\n",
              "      <td>2</td>\n",
              "      <td>2</td>\n",
              "      <td>2</td>\n",
              "      <td>2</td>\n",
              "      <td>2</td>\n",
              "      <td>2</td>\n",
              "      <td>2</td>\n",
              "      <td>2</td>\n",
              "      <td>2</td>\n",
              "      <td>2</td>\n",
              "      <td>2</td>\n",
              "      <td>2</td>\n",
              "      <td>2</td>\n",
              "      <td>2</td>\n",
              "      <td>2</td>\n",
              "      <td>3</td>\n",
              "      <td>3</td>\n",
              "      <td>3</td>\n",
              "      <td>3</td>\n",
              "      <td>3</td>\n",
              "      <td>3</td>\n",
              "      <td>3</td>\n",
              "      <td>3</td>\n",
              "      <td>...</td>\n",
              "      <td>3</td>\n",
              "      <td>3</td>\n",
              "      <td>3</td>\n",
              "      <td>3</td>\n",
              "      <td>3</td>\n",
              "      <td>3</td>\n",
              "      <td>3</td>\n",
              "      <td>3</td>\n",
              "      <td>3</td>\n",
              "      <td>3</td>\n",
              "      <td>3</td>\n",
              "      <td>3</td>\n",
              "      <td>3</td>\n",
              "      <td>3</td>\n",
              "      <td>3</td>\n",
              "      <td>3</td>\n",
              "      <td>2</td>\n",
              "      <td>2</td>\n",
              "      <td>2</td>\n",
              "      <td>2</td>\n",
              "      <td>2</td>\n",
              "      <td>2</td>\n",
              "      <td>2</td>\n",
              "      <td>2</td>\n",
              "      <td>2</td>\n",
              "      <td>2</td>\n",
              "      <td>2</td>\n",
              "      <td>2</td>\n",
              "      <td>2</td>\n",
              "      <td>2</td>\n",
              "      <td>2</td>\n",
              "      <td>2</td>\n",
              "      <td>2</td>\n",
              "      <td>2</td>\n",
              "      <td>2</td>\n",
              "      <td>2</td>\n",
              "      <td>2</td>\n",
              "      <td>2</td>\n",
              "      <td>2</td>\n",
              "      <td>2</td>\n",
              "    </tr>\n",
              "  </tbody>\n",
              "</table>\n",
              "<p>3 rows × 2688 columns</p>\n",
              "</div>"
            ],
            "text/plain": [
              "       0  1  2  3  4  5  6  7  8  ... 2679 2680 2681 2682 2683 2684 2685 2686 2687\n",
              "k_col                             ...                                             \n",
              "52     2  2  2  2  2  2  2  2  2  ...    2    2    2    2    2    2    2    2    2\n",
              "33     2  2  2  2  2  2  2  2  2  ...    2    2    2    2    2    2    2    2    2\n",
              "38     2  2  2  2  2  2  2  2  2  ...    2    2    2    2    2    2    2    2    2\n",
              "\n",
              "[3 rows x 2688 columns]"
            ]
          },
          "metadata": {
            "tags": []
          },
          "execution_count": 5
        }
      ]
    },
    {
      "cell_type": "code",
      "metadata": {
        "id": "wfrlP-ZQlBqk",
        "colab_type": "code",
        "colab": {
          "base_uri": "https://localhost:8080/",
          "height": 235
        },
        "outputId": "a8dae755-b3af-496b-ece5-3dfd97e65419"
      },
      "source": [
        "rvfirstev = rvfirstev_raw.copy()\n",
        "rvfirstev[rvfirstev_raw == 0] = 1\n",
        "rvfirstev.head(5)"
      ],
      "execution_count": null,
      "outputs": [
        {
          "output_type": "execute_result",
          "data": {
            "text/html": [
              "<div>\n",
              "<style scoped>\n",
              "    .dataframe tbody tr th:only-of-type {\n",
              "        vertical-align: middle;\n",
              "    }\n",
              "\n",
              "    .dataframe tbody tr th {\n",
              "        vertical-align: top;\n",
              "    }\n",
              "\n",
              "    .dataframe thead th {\n",
              "        text-align: right;\n",
              "    }\n",
              "</style>\n",
              "<table border=\"1\" class=\"dataframe\">\n",
              "  <thead>\n",
              "    <tr style=\"text-align: right;\">\n",
              "      <th></th>\n",
              "      <th>0</th>\n",
              "      <th>1</th>\n",
              "      <th>2</th>\n",
              "      <th>3</th>\n",
              "      <th>4</th>\n",
              "      <th>5</th>\n",
              "      <th>6</th>\n",
              "      <th>7</th>\n",
              "      <th>8</th>\n",
              "      <th>9</th>\n",
              "      <th>10</th>\n",
              "      <th>11</th>\n",
              "      <th>12</th>\n",
              "      <th>13</th>\n",
              "      <th>14</th>\n",
              "      <th>15</th>\n",
              "      <th>16</th>\n",
              "      <th>17</th>\n",
              "      <th>18</th>\n",
              "      <th>19</th>\n",
              "      <th>20</th>\n",
              "      <th>21</th>\n",
              "      <th>22</th>\n",
              "      <th>23</th>\n",
              "    </tr>\n",
              "    <tr>\n",
              "      <th>evs</th>\n",
              "      <th></th>\n",
              "      <th></th>\n",
              "      <th></th>\n",
              "      <th></th>\n",
              "      <th></th>\n",
              "      <th></th>\n",
              "      <th></th>\n",
              "      <th></th>\n",
              "      <th></th>\n",
              "      <th></th>\n",
              "      <th></th>\n",
              "      <th></th>\n",
              "      <th></th>\n",
              "      <th></th>\n",
              "      <th></th>\n",
              "      <th></th>\n",
              "      <th></th>\n",
              "      <th></th>\n",
              "      <th></th>\n",
              "      <th></th>\n",
              "      <th></th>\n",
              "      <th></th>\n",
              "      <th></th>\n",
              "      <th></th>\n",
              "    </tr>\n",
              "  </thead>\n",
              "  <tbody>\n",
              "    <tr>\n",
              "      <th>52</th>\n",
              "      <td>NaN</td>\n",
              "      <td>NaN</td>\n",
              "      <td>NaN</td>\n",
              "      <td>NaN</td>\n",
              "      <td>NaN</td>\n",
              "      <td>1.0</td>\n",
              "      <td>NaN</td>\n",
              "      <td>1.0</td>\n",
              "      <td>1.0</td>\n",
              "      <td>1.0</td>\n",
              "      <td>1.0</td>\n",
              "      <td>1.0</td>\n",
              "      <td>1.0</td>\n",
              "      <td>1.0</td>\n",
              "      <td>NaN</td>\n",
              "      <td>NaN</td>\n",
              "      <td>NaN</td>\n",
              "      <td>1.0</td>\n",
              "      <td>1.0</td>\n",
              "      <td>1.0</td>\n",
              "      <td>NaN</td>\n",
              "      <td>NaN</td>\n",
              "      <td>1.0</td>\n",
              "      <td>1.0</td>\n",
              "    </tr>\n",
              "    <tr>\n",
              "      <th>33</th>\n",
              "      <td>NaN</td>\n",
              "      <td>NaN</td>\n",
              "      <td>NaN</td>\n",
              "      <td>NaN</td>\n",
              "      <td>NaN</td>\n",
              "      <td>1.0</td>\n",
              "      <td>NaN</td>\n",
              "      <td>1.0</td>\n",
              "      <td>1.0</td>\n",
              "      <td>1.0</td>\n",
              "      <td>1.0</td>\n",
              "      <td>1.0</td>\n",
              "      <td>1.0</td>\n",
              "      <td>NaN</td>\n",
              "      <td>1.0</td>\n",
              "      <td>NaN</td>\n",
              "      <td>NaN</td>\n",
              "      <td>1.0</td>\n",
              "      <td>1.0</td>\n",
              "      <td>1.0</td>\n",
              "      <td>1.0</td>\n",
              "      <td>NaN</td>\n",
              "      <td>1.0</td>\n",
              "      <td>1.0</td>\n",
              "    </tr>\n",
              "    <tr>\n",
              "      <th>38</th>\n",
              "      <td>NaN</td>\n",
              "      <td>NaN</td>\n",
              "      <td>NaN</td>\n",
              "      <td>NaN</td>\n",
              "      <td>NaN</td>\n",
              "      <td>NaN</td>\n",
              "      <td>NaN</td>\n",
              "      <td>NaN</td>\n",
              "      <td>NaN</td>\n",
              "      <td>NaN</td>\n",
              "      <td>NaN</td>\n",
              "      <td>NaN</td>\n",
              "      <td>NaN</td>\n",
              "      <td>NaN</td>\n",
              "      <td>NaN</td>\n",
              "      <td>NaN</td>\n",
              "      <td>NaN</td>\n",
              "      <td>NaN</td>\n",
              "      <td>NaN</td>\n",
              "      <td>NaN</td>\n",
              "      <td>NaN</td>\n",
              "      <td>NaN</td>\n",
              "      <td>NaN</td>\n",
              "      <td>NaN</td>\n",
              "    </tr>\n",
              "    <tr>\n",
              "      <th>34</th>\n",
              "      <td>NaN</td>\n",
              "      <td>NaN</td>\n",
              "      <td>NaN</td>\n",
              "      <td>NaN</td>\n",
              "      <td>2688.0</td>\n",
              "      <td>1.0</td>\n",
              "      <td>NaN</td>\n",
              "      <td>1.0</td>\n",
              "      <td>1.0</td>\n",
              "      <td>1.0</td>\n",
              "      <td>1.0</td>\n",
              "      <td>1.0</td>\n",
              "      <td>1.0</td>\n",
              "      <td>NaN</td>\n",
              "      <td>NaN</td>\n",
              "      <td>NaN</td>\n",
              "      <td>NaN</td>\n",
              "      <td>1.0</td>\n",
              "      <td>1.0</td>\n",
              "      <td>NaN</td>\n",
              "      <td>1.0</td>\n",
              "      <td>NaN</td>\n",
              "      <td>1.0</td>\n",
              "      <td>1.0</td>\n",
              "    </tr>\n",
              "    <tr>\n",
              "      <th>39</th>\n",
              "      <td>NaN</td>\n",
              "      <td>NaN</td>\n",
              "      <td>NaN</td>\n",
              "      <td>NaN</td>\n",
              "      <td>NaN</td>\n",
              "      <td>NaN</td>\n",
              "      <td>NaN</td>\n",
              "      <td>NaN</td>\n",
              "      <td>NaN</td>\n",
              "      <td>NaN</td>\n",
              "      <td>1.0</td>\n",
              "      <td>NaN</td>\n",
              "      <td>NaN</td>\n",
              "      <td>NaN</td>\n",
              "      <td>NaN</td>\n",
              "      <td>NaN</td>\n",
              "      <td>NaN</td>\n",
              "      <td>NaN</td>\n",
              "      <td>NaN</td>\n",
              "      <td>NaN</td>\n",
              "      <td>NaN</td>\n",
              "      <td>NaN</td>\n",
              "      <td>NaN</td>\n",
              "      <td>NaN</td>\n",
              "    </tr>\n",
              "  </tbody>\n",
              "</table>\n",
              "</div>"
            ],
            "text/plain": [
              "      0   1   2   3       4    5   6    7  ...  16   17   18   19   20  21   22   23\n",
              "evs                                        ...                                      \n",
              "52  NaN NaN NaN NaN     NaN  1.0 NaN  1.0  ... NaN  1.0  1.0  1.0  NaN NaN  1.0  1.0\n",
              "33  NaN NaN NaN NaN     NaN  1.0 NaN  1.0  ... NaN  1.0  1.0  1.0  1.0 NaN  1.0  1.0\n",
              "38  NaN NaN NaN NaN     NaN  NaN NaN  NaN  ... NaN  NaN  NaN  NaN  NaN NaN  NaN  NaN\n",
              "34  NaN NaN NaN NaN  2688.0  1.0 NaN  1.0  ... NaN  1.0  1.0  NaN  1.0 NaN  1.0  1.0\n",
              "39  NaN NaN NaN NaN     NaN  NaN NaN  NaN  ... NaN  NaN  NaN  NaN  NaN NaN  NaN  NaN\n",
              "\n",
              "[5 rows x 24 columns]"
            ]
          },
          "metadata": {
            "tags": []
          },
          "execution_count": 6
        }
      ]
    },
    {
      "cell_type": "code",
      "metadata": {
        "id": "ffSPp3uIBlH3",
        "colab_type": "code",
        "colab": {}
      },
      "source": [
        "#for testing\n",
        "tline = timelines.loc[str(52)]  \n",
        "#tline.head(3)\n",
        "#tline = list(tline)\n",
        "\n",
        "\n",
        "#tline = tline.loc[str(5):str(10)] \n",
        "#tline.head(5)\n",
        "\n",
        "#print (tline[:5]#)\n"
      ],
      "execution_count": null,
      "outputs": []
    },
    {
      "cell_type": "code",
      "metadata": {
        "id": "0eqkbBX64YQC",
        "colab_type": "code",
        "colab": {
          "base_uri": "https://localhost:8080/",
          "height": 34
        },
        "outputId": "e2033ecb-9856-4261-dcea-8469b4e31508"
      },
      "source": [
        "#for testing\n",
        "ev = allevents.loc[21195]\n",
        "ev.head(5)\n",
        "rvid = ev['Rv']\n",
        "print (rvid)"
      ],
      "execution_count": null,
      "outputs": [
        {
          "output_type": "stream",
          "text": [
            "33\n"
          ],
          "name": "stdout"
        }
      ]
    },
    {
      "cell_type": "code",
      "metadata": {
        "id": "llY5KiUxlzSN",
        "colab_type": "code",
        "colab": {
          "base_uri": "https://localhost:8080/",
          "height": 34
        },
        "outputId": "49ab7eee-4389-49f5-c360-7b6c47890ba1"
      },
      "source": [
        "#for testing\n",
        "firstev = rvfirstev.loc[52, str(4)]\n",
        "print (firstev)"
      ],
      "execution_count": null,
      "outputs": [
        {
          "output_type": "stream",
          "text": [
            "nan\n"
          ],
          "name": "stdout"
        }
      ]
    },
    {
      "cell_type": "code",
      "metadata": {
        "id": "pvhvTRvYRjQn",
        "colab_type": "code",
        "colab": {
          "base_uri": "https://localhost:8080/",
          "height": 392
        },
        "outputId": "32d113e1-f500-486c-f85c-a3da96dd4ad5"
      },
      "source": [
        "import copy\n",
        "import operator\n",
        "\n",
        "class Sample():\n",
        "\n",
        "  \"\"\"class for events for ranking problem\"\"\"\n",
        "  def __init__(self,  sample_li):\n",
        "    (s_id, location, dbid, day_evs, sevs, rv_eq, \n",
        "    start, end, rv, group, cat, \n",
        "    evtype, rv_ff, gespever, hwx, uma) = sample_li\n",
        "\n",
        "    day = (start//24*PPH)*(24*PPH)\n",
        "    locday =str(location)+'-' + str(day)\n",
        "\n",
        "    def get_li(li_str):\n",
        "      if isinstance(li_str, str):\n",
        "        li = [int(s) for s in li_str.split(';')]\n",
        "      else:\n",
        "        li = []\n",
        "      return li\n",
        "\n",
        "    day_evs = get_li(day_evs)\n",
        "    rv_eq = get_li(rv_eq)\n",
        "    sevs = get_li(sevs)\n",
        "\n",
        "    self.location = location\n",
        "    self.day = (start//24*PPH)*(24*PPH)\n",
        "    self.locday = locday\n",
        "    self.start = start\n",
        "    self.end = end\n",
        "    self.rv = rv\n",
        "    self.rv_eq = rv_eq\n",
        "    self.id = s_id\n",
        "    self.evtype = evtype        \n",
        "    self.group = group\n",
        "    self.day_evs = day_evs\n",
        "    self.sevs = sevs\n",
        "    self.rv_ff = rv_ff\n",
        "    self.gespever = gespever\n",
        "    self.hwx = hwx\n",
        "    self.uma = uma\n",
        "    self.rvli = None\n",
        "class SampleList(list):\n",
        "  '''base class for list of samples'''\n",
        "    \n",
        "  def get(self, variable_value, item_attr  = 'id'): \n",
        "      vv = variable_value\n",
        "      ra = item_attr\n",
        "      f = operator.attrgetter(ra)\n",
        "      for s in self:\n",
        "          if f(s) == vv: \n",
        "              return s                \n",
        "      return None\n",
        "\n",
        "class RV():\n",
        "  '''base class for rvs'''\n",
        "  def __init__(self,  rvvals\n",
        "                ):\n",
        "    (rvid, location,\n",
        "     sex) = rvvals\n",
        "    self.id = rvid\n",
        "    self.location = location\n",
        "    self.sex = sex\n",
        "\n",
        "class RVList(list):\n",
        "  '''base class for list of rvs'''\n",
        "  def filter(self, variable_value, rv_attr): \n",
        "        vv = variable_value\n",
        "        ra = rv_attr\n",
        "        f = operator.attrgetter(ra)\n",
        "        newli = RVList(filter(lambda x: f(x) == vv, self)) #calls x.ev\n",
        "        return newli\n",
        "    \n",
        "  def get(self, variable_value, rv_attr  = 'id'): \n",
        "      vv = variable_value\n",
        "      ra = rv_attr\n",
        "      f = operator.attrgetter(ra)\n",
        "      for rv in self:\n",
        "          if f(rv) == vv: \n",
        "              return rv                \n",
        "      return None\n",
        "\n",
        "  \n",
        "def get_example_features(s):  \n",
        "  if s.rvli == None:\n",
        "    rvli = get_rvlist(s)\n",
        "    s.rvli = rvli\n",
        "    set_tlines(s)\n",
        "  get_pot_rvs(s)\n",
        "\n",
        "def get_rvlist(s):\n",
        "  rvli = rvli_d.get(s.locday, None)\n",
        "  if rvli:\n",
        "    return rvli\n",
        "  \n",
        "  rvlist = rvlist_all.filter(s.location, 'location') #[rv for rv in rvs if rv.location == loc_id]\n",
        "  rvlist = cut_timelines(rvlist, s) #same for all same day events\n",
        "  rvli_d[s.locday] = rvlist\n",
        "  return rvli\n",
        "\n",
        "def cut_timelines(rvlist, s):\n",
        "  weeks_before = WEEKS_B\n",
        "  weeks_after = WEEKS_A\n",
        "  td_perwk = PPH*24*7\n",
        "  ist = s.start - (td_perwk*weeks_before)\n",
        "  if ist < 0:\n",
        "    ist = 0\n",
        "  iet = s.start + td_perwk*weeks_after\n",
        "  if iet > KMAX:\n",
        "    iet = KMAX\n",
        "\n",
        "  for rv in rvlist:\n",
        "    tline = timelines.loc[str(rv.id)]\n",
        "    rv.tline = tline.loc[str(ist):str(iet)] \n",
        "  return rvlist\n",
        "def set_tlines(s):\n",
        "  rvli = s.rvli\n",
        "  evs  = s.sevs #can be empty list\n",
        "  day_evs = s.day_evs #rendomized only part of it to zero\n",
        "  evs += day_evs\n",
        "  sample_li = []\n",
        "  '''\n",
        "  -> delete ev and sev for 1 rv \n",
        "  -> assign rvlist to sample\n",
        "  -> copy rvlist\n",
        "  -> delete ev and sev for next ev in 1 rv\n",
        "  -> rvlist gets more and more zeros'''\n",
        "  for eid in day_evs:\n",
        "    ev = sample_list.get(eid)\n",
        "    evs += ev.sevs\n",
        "    sample_li.append(ev)\n",
        "\n",
        "  for eid in evs:\n",
        "    ev = allevents.loc[eid]\n",
        "    ev = allevents.loc[21195]\n",
        "    rvid = ev['Rv']\n",
        "    rv = rvli.get(rvid)\n",
        "    rv.tline.loc[str(ev['Start']):str(ev['End'])] = 0 \n",
        "  #all day_evs have same rvli\n",
        "  for s in sample_li:\n",
        "    s.rvli = copy.deepcopy(rvli)\n",
        "\n",
        "\n",
        "def get_pot_rvs(s):\n",
        "  rvlist = s.rvlist\n",
        "  for rv in rvlist:\n",
        "    if check_availability(rv, s) == False:\n",
        "      rvlist.remove(rv)\n",
        "    if check_evtype(rv, s) == False:\n",
        "      rvlist.remove(rv)\n",
        "  check_feat(rv, s) #probably better leave features\n",
        "    \n",
        "def check_availability(rv, s):\n",
        "  if rv.tline.loc[str(s.star):str(s.end)].any() == True: #not all are 0\n",
        "    return False\n",
        "  else:\n",
        "    return True\n",
        "     \n",
        "def check_evtype(rv, s):\n",
        "  firstev = rvfirstev.loc[rv.id, str(s.evtype)] #1, None or date_int\n",
        "  if firstev == None:\n",
        "    return False\n",
        "  if firstev <= s.start:\n",
        "    return True\n",
        "  else:\n",
        "    return False\n",
        "\n",
        "def check_feat(rv, s):\n",
        "  if s.gespever > 0: \n",
        "    rvlist = s.rvlist\n",
        "    rvlist = rvlist.filter(s.gespever, 'sex')\n",
        "  #UMA and HWX just left with features\n",
        "\n",
        "#iterating over pd rows not efficient -> could all be done with pd Dataframe\n",
        "#but nested lists not working well with pd (like in samples)\n",
        "\n",
        "sample_list = SampleList([Sample(s) for i, s in samples.iloc[:5].iterrows()])\n",
        "rvlist_all = RVList([RV(r) for i, r in rvs.iterrows()])\n",
        "\n",
        "rvli_d = {}\n",
        "i = 0\n",
        "for s in sample_list:\n",
        "  print ('samplelist', i)\n",
        "  i += 1\n",
        "  get_example_features(s) #rvs, SHOULD BE ALWAYS SAME # OF RVS\n",
        "  rvs = [s.rv ] + list(s.rv_eq) #correct answer\n",
        "  '''relevanz als key bei RV (feature_key)\n",
        "  features als key 'FEATure'\n",
        "  '''\n",
        "  #relevanz aller rvs in reihenfolge für sample, meistens 1, 0, …\n",
        "  #zugehörige features des events \n",
        "  #zugehörige Y rvs mit X features \n",
        "\n",
        "\n",
        "\n",
        "\n",
        "\n",
        "\n"
      ],
      "execution_count": null,
      "outputs": [
        {
          "output_type": "stream",
          "text": [
            "samplelist 0\n"
          ],
          "name": "stdout"
        },
        {
          "output_type": "error",
          "ename": "AttributeError",
          "evalue": "ignored",
          "traceback": [
            "\u001b[0;31m---------------------------------------------------------------------------\u001b[0m",
            "\u001b[0;31mAttributeError\u001b[0m                            Traceback (most recent call last)",
            "\u001b[0;32m<ipython-input-11-453771e42c93>\u001b[0m in \u001b[0;36m<module>\u001b[0;34m()\u001b[0m\n\u001b[1;32m    183\u001b[0m   \u001b[0mprint\u001b[0m \u001b[0;34m(\u001b[0m\u001b[0;34m'samplelist'\u001b[0m\u001b[0;34m,\u001b[0m \u001b[0mi\u001b[0m\u001b[0;34m)\u001b[0m\u001b[0;34m\u001b[0m\u001b[0;34m\u001b[0m\u001b[0m\n\u001b[1;32m    184\u001b[0m   \u001b[0mi\u001b[0m \u001b[0;34m+=\u001b[0m \u001b[0;36m1\u001b[0m\u001b[0;34m\u001b[0m\u001b[0;34m\u001b[0m\u001b[0m\n\u001b[0;32m--> 185\u001b[0;31m   \u001b[0mget_example_features\u001b[0m\u001b[0;34m(\u001b[0m\u001b[0ms\u001b[0m\u001b[0;34m)\u001b[0m \u001b[0;31m#rvs, SHOULD BE ALWAYS SAME # OF RVS\u001b[0m\u001b[0;34m\u001b[0m\u001b[0;34m\u001b[0m\u001b[0m\n\u001b[0m\u001b[1;32m    186\u001b[0m   \u001b[0mrvs\u001b[0m \u001b[0;34m=\u001b[0m \u001b[0;34m[\u001b[0m\u001b[0ms\u001b[0m\u001b[0;34m.\u001b[0m\u001b[0mrv\u001b[0m \u001b[0;34m]\u001b[0m \u001b[0;34m+\u001b[0m \u001b[0mlist\u001b[0m\u001b[0;34m(\u001b[0m\u001b[0ms\u001b[0m\u001b[0;34m.\u001b[0m\u001b[0mrv_eq\u001b[0m\u001b[0;34m)\u001b[0m \u001b[0;31m#correct answer\u001b[0m\u001b[0;34m\u001b[0m\u001b[0;34m\u001b[0m\u001b[0m\n\u001b[1;32m    187\u001b[0m   '''relevanz als key bei RV (feature_key)\n",
            "\u001b[0;32m<ipython-input-11-453771e42c93>\u001b[0m in \u001b[0;36mget_example_features\u001b[0;34m(s)\u001b[0m\n\u001b[1;32m     86\u001b[0m     \u001b[0mrvli\u001b[0m \u001b[0;34m=\u001b[0m \u001b[0mget_rvlist\u001b[0m\u001b[0;34m(\u001b[0m\u001b[0ms\u001b[0m\u001b[0;34m)\u001b[0m\u001b[0;34m\u001b[0m\u001b[0;34m\u001b[0m\u001b[0m\n\u001b[1;32m     87\u001b[0m     \u001b[0ms\u001b[0m\u001b[0;34m.\u001b[0m\u001b[0mrvli\u001b[0m \u001b[0;34m=\u001b[0m \u001b[0mrvli\u001b[0m\u001b[0;34m\u001b[0m\u001b[0;34m\u001b[0m\u001b[0m\n\u001b[0;32m---> 88\u001b[0;31m     \u001b[0mset_tlines\u001b[0m\u001b[0;34m(\u001b[0m\u001b[0ms\u001b[0m\u001b[0;34m)\u001b[0m\u001b[0;34m\u001b[0m\u001b[0;34m\u001b[0m\u001b[0m\n\u001b[0m\u001b[1;32m     89\u001b[0m   \u001b[0mget_pot_rvs\u001b[0m\u001b[0;34m(\u001b[0m\u001b[0ms\u001b[0m\u001b[0;34m)\u001b[0m\u001b[0;34m\u001b[0m\u001b[0;34m\u001b[0m\u001b[0m\n\u001b[1;32m     90\u001b[0m \u001b[0;34m\u001b[0m\u001b[0m\n",
            "\u001b[0;32m<ipython-input-11-453771e42c93>\u001b[0m in \u001b[0;36mset_tlines\u001b[0;34m(s)\u001b[0m\n\u001b[1;32m    135\u001b[0m     \u001b[0mev\u001b[0m \u001b[0;34m=\u001b[0m \u001b[0mallevents\u001b[0m\u001b[0;34m.\u001b[0m\u001b[0mloc\u001b[0m\u001b[0;34m[\u001b[0m\u001b[0;36m21195\u001b[0m\u001b[0;34m]\u001b[0m\u001b[0;34m\u001b[0m\u001b[0;34m\u001b[0m\u001b[0m\n\u001b[1;32m    136\u001b[0m     \u001b[0mrvid\u001b[0m \u001b[0;34m=\u001b[0m \u001b[0mev\u001b[0m\u001b[0;34m[\u001b[0m\u001b[0;34m'Rv'\u001b[0m\u001b[0;34m]\u001b[0m\u001b[0;34m\u001b[0m\u001b[0;34m\u001b[0m\u001b[0m\n\u001b[0;32m--> 137\u001b[0;31m     \u001b[0mrv\u001b[0m \u001b[0;34m=\u001b[0m \u001b[0mrvli\u001b[0m\u001b[0;34m.\u001b[0m\u001b[0mget\u001b[0m\u001b[0;34m(\u001b[0m\u001b[0mrvid\u001b[0m\u001b[0;34m)\u001b[0m\u001b[0;34m\u001b[0m\u001b[0;34m\u001b[0m\u001b[0m\n\u001b[0m\u001b[1;32m    138\u001b[0m     \u001b[0mrv\u001b[0m\u001b[0;34m.\u001b[0m\u001b[0mtline\u001b[0m\u001b[0;34m.\u001b[0m\u001b[0mloc\u001b[0m\u001b[0;34m[\u001b[0m\u001b[0mstr\u001b[0m\u001b[0;34m(\u001b[0m\u001b[0mev\u001b[0m\u001b[0;34m[\u001b[0m\u001b[0;34m'Start'\u001b[0m\u001b[0;34m]\u001b[0m\u001b[0;34m)\u001b[0m\u001b[0;34m:\u001b[0m\u001b[0mstr\u001b[0m\u001b[0;34m(\u001b[0m\u001b[0mev\u001b[0m\u001b[0;34m[\u001b[0m\u001b[0;34m'End'\u001b[0m\u001b[0;34m]\u001b[0m\u001b[0;34m)\u001b[0m\u001b[0;34m]\u001b[0m \u001b[0;34m=\u001b[0m \u001b[0;36m0\u001b[0m\u001b[0;34m\u001b[0m\u001b[0;34m\u001b[0m\u001b[0m\n\u001b[1;32m    139\u001b[0m   \u001b[0;31m#all day_evs have same rvli\u001b[0m\u001b[0;34m\u001b[0m\u001b[0;34m\u001b[0m\u001b[0;34m\u001b[0m\u001b[0m\n",
            "\u001b[0;31mAttributeError\u001b[0m: 'NoneType' object has no attribute 'get'"
          ]
        }
      ]
    },
    {
      "cell_type": "code",
      "metadata": {
        "id": "KowyqSpwjjz8",
        "colab_type": "code",
        "colab": {}
      },
      "source": [
        "%debug"
      ],
      "execution_count": null,
      "outputs": []
    },
    {
      "cell_type": "markdown",
      "metadata": {
        "colab_type": "text",
        "id": "T7L-IOmOWm3s"
      },
      "source": [
        "Next, we discuss data formats in more detail, and show how to generate and store dummy ranking data."
      ]
    },
    {
      "cell_type": "markdown",
      "metadata": {
        "colab_type": "text",
        "id": "dXA_7oIRWKd9"
      },
      "source": [
        "## Data Formats\n"
      ]
    },
    {
      "cell_type": "markdown",
      "metadata": {
        "colab_type": "text",
        "id": "6tuna6Td3_UO"
      },
      "source": [
        "### Data Formats for Ranking\n",
        "\n",
        "For representing ranking data, [protobuffers](https://developers.google.com/protocol-buffers/) are extensible structures suitable for storing data in a serialized format, either locally or in a distributed manner.\n",
        "\n",
        "Ranking usually consists of features corresponding to each of the examples being sorted. In addition, features related to query, user or session are also useful for ranking. We refer to these as context features, as these are independent of the examples.\n",
        "\n",
        "We use the popular [tf.Example](https://www.tensorflow.org/tutorials/load_data/tf_records) proto to represent the features for context, and each of the examples. We use the protobuffer, **ExampleListWithContext** (ELWC), to store context as a tf.Example proto and the list of examples to be ranked as a list of tf.Example protos.\n",
        "\n",
        "ExampleListWithContext protbuffer is defined [here](https:https://github.com/tensorflow/serving/blob/master/tensorflow_serving/apis/input.proto#L72)."
      ]
    },
    {
      "cell_type": "markdown",
      "metadata": {
        "colab_type": "text",
        "id": "95QnMu1cyPYA"
      },
      "source": [
        "Let us create some dummy data in ELWC format. We will use this dummy data to show how the proto looks like."
      ]
    },
    {
      "cell_type": "markdown",
      "metadata": {
        "colab_type": "text",
        "id": "etVmJYOngOxD"
      },
      "source": [
        "Download and install the TensorFlow 2 package."
      ]
    },
    {
      "cell_type": "code",
      "metadata": {
        "colab_type": "code",
        "id": "aPmhLkMWgPLO",
        "colab": {
          "base_uri": "https://localhost:8080/",
          "height": 68
        },
        "outputId": "8f4c273f-cbdd-4035-85f5-6ea5bc444fba"
      },
      "source": [
        "print('Installing TensorFlow 2.1.0. This will take a minute, ignore the warnings.')\n",
        "!pip install -q tensorflow==2.1.0\n",
        "import tensorflow as tf\n",
        "\n",
        "# This is needed for tensorboard compatibility.\n",
        "!pip uninstall -y grpcio\n",
        "!pip install -q grpcio>=1.24.3"
      ],
      "execution_count": null,
      "outputs": [
        {
          "output_type": "stream",
          "text": [
            "Installing TensorFlow 2.1.0. This will take a minute, ignore the warnings.\n",
            "Uninstalling grpcio-1.27.2:\n",
            "  Successfully uninstalled grpcio-1.27.2\n"
          ],
          "name": "stdout"
        }
      ]
    },
    {
      "cell_type": "markdown",
      "metadata": {
        "colab_type": "text",
        "id": "d_PrxvnLTO1i"
      },
      "source": [
        "### Dependencies and Global Variables\n",
        "\n",
        "Let us start by importing libraries that will be used throughout this Notebook. We also enable the \"eager execution\" mode for convenience and demonstration purposes."
      ]
    },
    {
      "cell_type": "code",
      "metadata": {
        "colab_type": "code",
        "id": "kXPP5mzZswio",
        "colab": {}
      },
      "source": [
        "import six\n",
        "import os\n",
        "import numpy as np\n",
        "\n",
        "try:\n",
        "  import tensorflow_ranking as tfr\n",
        "except ImportError:\n",
        "    !pip install -q tensorflow_ranking\n",
        "    import tensorflow_ranking as tfr"
      ],
      "execution_count": null,
      "outputs": []
    },
    {
      "cell_type": "markdown",
      "metadata": {
        "colab_type": "text",
        "id": "0B09XkzZYKLV"
      },
      "source": [
        "Here we define the train and test paths, along with model hyperparameters.\n",
        "\n"
      ]
    },
    {
      "cell_type": "code",
      "metadata": {
        "colab_type": "code",
        "id": "SDEhIqPSYJS1",
        "colab": {}
      },
      "source": [
        "# Store the paths to files containing training and test instances.\n",
        "_TRAIN_DATA_PATH = \"/tmp/train.tfrecords\"\n",
        "_TEST_DATA_PATH = \"/tmp/test.tfrecords\"\n",
        "\n",
        "# Store the vocabulary path for query and document tokens.\n",
        "_VOCAB_PATH = \"/tmp/vocab.txt\"\n",
        "\n",
        "# The maximum number of documents per query in the dataset.\n",
        "# Document lists are padded or truncated to this size.\n",
        "_LIST_SIZE = 50\n",
        "\n",
        "# The document relevance label.\n",
        "_LABEL_FEATURE = \"relevance\"\n",
        "\n",
        "# Padding labels are set negative so that the corresponding examples can be\n",
        "# ignored in loss and metrics.\n",
        "_PADDING_LABEL = -1\n",
        "\n",
        "# Learning rate for optimizer.\n",
        "_LEARNING_RATE = 0.05\n",
        "\n",
        "# Parameters to the scoring function.\n",
        "_BATCH_SIZE = 32\n",
        "_HIDDEN_LAYER_DIMS = [\"64\", \"32\", \"16\"]\n",
        "_DROPOUT_RATE = 0.8\n",
        "_GROUP_SIZE = 1  # Pointwise scoring.\n",
        "\n",
        "# Location of model directory and number of training steps.\n",
        "_MODEL_DIR = \"/tmp/ranking_model_dir\"\n",
        "_NUM_TRAIN_STEPS = 15 * 1000"
      ],
      "execution_count": null,
      "outputs": []
    },
    {
      "cell_type": "markdown",
      "metadata": {
        "colab_type": "text",
        "id": "tFbFBTUh9WXf"
      },
      "source": [
        "## Components of a Ranking Estimator\n",
        "\n"
      ]
    },
    {
      "cell_type": "markdown",
      "metadata": {
        "colab_type": "text",
        "id": "pSIfzuaKKOa8"
      },
      "source": [
        "The overall components of a Ranking Estimator are shown below.\n",
        "\n",
        "The key components of the library are:\n",
        "\n",
        "1.   Input Reader\n",
        "2.   Tranform Function\n",
        "3.   Scoring Function\n",
        "4.   Ranking Losses\n",
        "5.   Ranking Metrics\n",
        "6.   Ranking Head\n",
        "7.   Model Builder\n",
        "\n",
        "These are described in more details in the following sections."
      ]
    },
    {
      "cell_type": "markdown",
      "metadata": {
        "colab_type": "text",
        "id": "Pohq1eKbo4TD"
      },
      "source": [
        "### TensorFlow Ranking Architecture\n",
        "\n",
        "![tf_ranking_arch](https://user-images.githubusercontent.com/3262617/60061785-5f107980-96ab-11e9-9849-ace2d117220f.png)\n"
      ]
    },
    {
      "cell_type": "markdown",
      "metadata": {
        "colab_type": "text",
        "id": "aQ-VTA56sOTA"
      },
      "source": [
        "### Specifying Features via Feature Columns\n",
        "\n",
        "[Feature Columns](https://www.tensorflow.org/guide/feature_columns) are TensorFlow abstractions that are used to capture rich information about each feature. It allows for easy transformations for a diverse range of raw features and for interfacing with Estimators.\n",
        "\n",
        "Consistent with our input formats for ranking, such as ELWC format, we create feature columns for context features and example features."
      ]
    },
    {
      "cell_type": "code",
      "metadata": {
        "colab_type": "code",
        "id": "I0TWSuMZ70eI",
        "colab": {}
      },
      "source": [
        "_EMBEDDING_DIMENSION = 20\n",
        "\n",
        "def context_feature_columns():\n",
        "  \"\"\"Returns context feature names to column definitions.\"\"\"\n",
        "  sparse_column = tf.feature_column.categorical_column_with_vocabulary_file(\n",
        "      key=\"query_tokens\",\n",
        "      vocabulary_file=_VOCAB_PATH)\n",
        "  query_embedding_column = tf.feature_column.embedding_column(\n",
        "      sparse_column, _EMBEDDING_DIMENSION)\n",
        "  return {\"query_tokens\": query_embedding_column}\n",
        "\n",
        "def example_feature_columns():\n",
        "  \"\"\"Returns the example feature columns.\"\"\"\n",
        "  sparse_column = tf.feature_column.categorical_column_with_vocabulary_file(\n",
        "      key=\"document_tokens\",\n",
        "      vocabulary_file=_VOCAB_PATH)\n",
        "  document_embedding_column = tf.feature_column.embedding_column(\n",
        "      sparse_column, _EMBEDDING_DIMENSION)\n",
        "  return {\"document_tokens\": document_embedding_column}"
      ],
      "execution_count": null,
      "outputs": []
    },
    {
      "cell_type": "markdown",
      "metadata": {
        "colab_type": "text",
        "id": "ZGJ6rRJyZmiB"
      },
      "source": [
        "### Reading Input Data using *input_fn*\n",
        "\n",
        "The input reader reads in data from persistent storage to produce raw dense and sparse tensors of appropriate type for each feature. Example features are represented by 3-D tensors (where dimensions correspond to queries, examples and feature values). Context features are represented by 2-D tensors (where dimensions correspond to queries and feature values)."
      ]
    },
    {
      "cell_type": "code",
      "metadata": {
        "colab_type": "code",
        "id": "itrqULz5lubN",
        "colab": {}
      },
      "source": [
        "def input_fn(path, num_epochs=None):\n",
        "  context_feature_spec = tf.feature_column.make_parse_example_spec(\n",
        "        context_feature_columns().values())\n",
        "  label_column = tf.feature_column.numeric_column(\n",
        "        _LABEL_FEATURE, dtype=tf.int64, default_value=_PADDING_LABEL)\n",
        "  example_feature_spec = tf.feature_column.make_parse_example_spec(\n",
        "        list(example_feature_columns().values()) + [label_column])\n",
        "  dataset = tfr.data.build_ranking_dataset(\n",
        "        file_pattern=path,\n",
        "        data_format=tfr.data.ELWC,\n",
        "        batch_size=_BATCH_SIZE,\n",
        "        list_size=_LIST_SIZE,\n",
        "        context_feature_spec=context_feature_spec,\n",
        "        example_feature_spec=example_feature_spec,\n",
        "        reader=tf.data.TFRecordDataset,\n",
        "        shuffle=False,\n",
        "        num_epochs=num_epochs)\n",
        "  features = tf.compat.v1.data.make_one_shot_iterator(dataset).get_next()\n",
        "  label = tf.squeeze(features.pop(_LABEL_FEATURE), axis=2)\n",
        "  label = tf.cast(label, tf.float32)\n",
        "\n",
        "  return features, label"
      ],
      "execution_count": null,
      "outputs": []
    },
    {
      "cell_type": "code",
      "metadata": {
        "id": "OdekaKpKhGAh",
        "colab_type": "code",
        "colab": {
          "base_uri": "https://localhost:8080/",
          "height": 428
        },
        "outputId": "090f157e-ee8b-4186-baa8-3e53531b8758"
      },
      "source": [
        "feat, labs = input_fn(_TRAIN_DATA_PATH)\n",
        "print(_TRAIN_DATA_PATH)\n",
        "print('label', labs.shape)\n",
        "for k, item in feat.items():\n",
        "  print ('feat', k, item.shape)\n",
        "print ('first 5 labels', labs[0,:5].numpy())\n",
        "queries_t = tf.sparse.to_dense(feat['query_tokens']) #spare tensor to dense\n",
        "doc_t = tf.sparse.to_dense(feat['document_tokens'])\n",
        "#print ('indices', query_st.indices[0][0]) #which indix has first value\n",
        "print ('query values', queries_t[0])\n",
        "#check slicing notification!\n",
        "print ('document values', doc_t[0,:5,:10].numpy()) #first x answers, first y words\n"
      ],
      "execution_count": null,
      "outputs": [
        {
          "output_type": "stream",
          "text": [
            "WARNING: Logging before flag parsing goes to stderr.\n",
            "W0228 10:11:59.097604 140021051340672 deprecation.py:323] From /usr/local/lib/python2.7/dist-packages/tensorflow_ranking/python/data.py:799: parallel_interleave (from tensorflow.python.data.experimental.ops.interleave_ops) is deprecated and will be removed in a future version.\n",
            "Instructions for updating:\n",
            "Use `tf.data.Dataset.interleave(map_func, cycle_length, block_length, num_parallel_calls=tf.data.experimental.AUTOTUNE)` instead. If sloppy execution is desired, use `tf.data.Options.experimental_deterministic`.\n"
          ],
          "name": "stderr"
        },
        {
          "output_type": "stream",
          "text": [
            "/tmp/train.tfrecords\n",
            "('label', TensorShape([32, 50]))\n",
            "('feat', 'query_tokens', TensorShape([32, 36]))\n",
            "('feat', 'document_tokens', TensorShape([32, 50, 810]))\n",
            "('first 5 labels', array([1., 2., 3., 2., 3.], dtype=float32))\n",
            "('query values', <tf.Tensor: shape=(36,), dtype=string, numpy=\n",
            "array(['why', 'do', 'human', 'bee', '##ing', 'h', '##v', 'to', 'bel',\n",
            "       '##ive', 'in', 'god', '?', '', '', '', '', '', '', '', '', '', '',\n",
            "       '', '', '', '', '', '', '', '', '', '', '', '', ''], dtype=object)>)\n",
            "('document values', array([['they', 'don', \"'\", 't', 'have', 'to', '.', 'usually', 'people',\n",
            "        'are'],\n",
            "       ['it', \"'\", 's', 'not', 'that', 'we', 'have', 'to', 'believe',\n",
            "        'in'],\n",
            "       ['it', \"'\", 's', 'instinct', '!', 'for', 'survival', '.', '.',\n",
            "        'du'],\n",
            "       ['human', 'beings', 'don', \"'\", 't', 'have', 'to', 'believe',\n",
            "        'in', 'god'],\n",
            "       ['they', 'don', \"'\", 't', 'but', 'it', 'comfort', '##s', 'some',\n",
            "        'people']], dtype=object))\n"
          ],
          "name": "stdout"
        }
      ]
    },
    {
      "cell_type": "markdown",
      "metadata": {
        "id": "reWqr2hph2fa",
        "colab_type": "text"
      },
      "source": [
        "**BATCH-Size: 32\n",
        "-> 32 examples mit 50 dokumenten, welche in mit relevanz gelabelt sind!** \n",
        "\n",
        "('label', TensorShape([32, 50]))\n",
        "\n",
        "('feat', 'query_tokens', TensorShape([32, 36])) **-> 32 queries mit 36 context features**\n",
        "\n",
        "('feat', 'document_tokens', TensorShape([32, 50, 810])) **-> 32 queries mit 50 dokumenten mit 810 features**"
      ]
    },
    {
      "cell_type": "markdown",
      "metadata": {
        "colab_type": "text",
        "id": "TXNUKT2s8bsQ"
      },
      "source": [
        "### Feature Transformations with *transform_fn*\n",
        "\n",
        "The transform function takes in the raw dense or sparse features from the input reader, applies suitable transformations to return dense representations for each feature. This is important before passing these features to a neural network, as neural networks layers usually take dense features as inputs.\n",
        "\n",
        "The transform function handles any custom feature transformations defined by the user. For handling sparse features, like text data, we provide an easy utlity to create shared embeddings, based on the feature columns."
      ]
    },
    {
      "cell_type": "code",
      "metadata": {
        "colab_type": "code",
        "id": "zQG5UXub82SB",
        "colab": {}
      },
      "source": [
        "def make_transform_fn():\n",
        "  def _transform_fn(features, mode):\n",
        "    \"\"\"Defines transform_fn.\"\"\"\n",
        "    context_features, example_features = tfr.feature.encode_listwise_features(\n",
        "        features=features,\n",
        "        context_feature_columns=context_feature_columns(),\n",
        "        example_feature_columns=example_feature_columns(),\n",
        "        mode=mode,\n",
        "        scope=\"transform_layer\")\n",
        "\n",
        "    return context_features, example_features\n",
        "  return _transform_fn"
      ],
      "execution_count": null,
      "outputs": []
    },
    {
      "cell_type": "code",
      "metadata": {
        "id": "hFuisboEy8eC",
        "colab_type": "code",
        "colab": {}
      },
      "source": [
        "transfunc = make_transform_fn()\n",
        "cont_feats, ex_feats = transfunc(feat, 'test')\n"
      ],
      "execution_count": null,
      "outputs": []
    },
    {
      "cell_type": "code",
      "metadata": {
        "id": "q_MgGYg7SEAn",
        "colab_type": "code",
        "colab": {
          "base_uri": "https://localhost:8080/",
          "height": 139
        },
        "outputId": "bcf7e459-74e2-4b8a-8928-5d36749718a6"
      },
      "source": [
        "cont_feat_t = cont_feats['query_tokens']\n",
        "examp_feat_t = ex_feats['document_tokens']\n",
        "print ('cont_feat_t', cont_feat_t.shape)\n",
        "print ('examp_feat_t', examp_feat_t.shape)\n",
        "\n",
        "print ('first 5 cont features', cont_feat_t[0,:5].numpy())\n",
        "print ('first 5 features von 1 doc', examp_feat_t[0,0,:5].numpy())\n"
      ],
      "execution_count": null,
      "outputs": [
        {
          "output_type": "stream",
          "text": [
            "('cont_feat_t', TensorShape([32, 20]))\n",
            "('examp_feat_t', TensorShape([32, 50, 20]))\n",
            "('first 5 cont features', array([ 0.00775362,  0.07860542, -0.05217513, -0.0778469 ,  0.01583379],\n",
            "      dtype=float32))\n",
            "('first 5 features von 1 doc', array([-0.00228992, -0.01075753,  0.02653058, -0.03984784, -0.04151261],\n",
            "      dtype=float32))\n"
          ],
          "name": "stdout"
        }
      ]
    },
    {
      "cell_type": "markdown",
      "metadata": {
        "id": "v119ERnZUbVq",
        "colab_type": "text"
      },
      "source": [
        "**OUTPUT**\n",
        "('cont_feat_t', TensorShape([32, 20]))\n",
        "('examp_feat_t', TensorShape([32, 50, 20]))\n",
        "('first 5 cont features', array([ 0.00775362,  0.07860542, -0.05217513, -0.0778469 ,  0.01583379],\n",
        "      dtype=float32))\n",
        "('first 5 features von 1 doc', array([-0.00228992, -0.01075753,  0.02653058, -0.03984784, -0.04151261],\n",
        "      dtype=float32))"
      ]
    },
    {
      "cell_type": "markdown",
      "metadata": {
        "colab_type": "text",
        "id": "QdVFrZBIeWXL"
      },
      "source": [
        "### Feature Interactions using *scoring_fn*\n",
        "\n",
        "Next, we turn to the scoring function which is arguably at the heart of a TF Ranking model. The idea is to compute a relevance score for a (set of) query-document pair(s). The TF-Ranking model will use training data to learn this function.\n",
        "\n",
        "Here we formulate a scoring function using a feed forward network. The function takes the features of a single example (i.e., query-document pair) and produces a relevance score."
      ]
    },
    {
      "cell_type": "code",
      "metadata": {
        "colab_type": "code",
        "id": "B7Ft1i2oieEY",
        "colab": {}
      },
      "source": [
        "def make_score_fn():\n",
        "  \"\"\"Returns a scoring function to build `EstimatorSpec`.\"\"\"\n",
        "\n",
        "  def _score_fn(context_features, group_features, mode, params, config):\n",
        "    \"\"\"Defines the network to score a group of documents.\"\"\"\n",
        "    with tf.compat.v1.name_scope(\"input_layer\"):\n",
        "      context_input = [\n",
        "          tf.compat.v1.layers.flatten(context_features[name])\n",
        "          for name in sorted(context_feature_columns())\n",
        "      ]\n",
        "      group_input = [\n",
        "          tf.compat.v1.layers.flatten(group_features[name])\n",
        "          for name in sorted(example_feature_columns())\n",
        "      ]\n",
        "      input_layer = tf.concat(context_input + group_input, 1)\n",
        "\n",
        "    is_training = (mode == tf.estimator.ModeKeys.TRAIN)\n",
        "    cur_layer = input_layer\n",
        "    cur_layer = tf.compat.v1.layers.batch_normalization(\n",
        "      cur_layer,\n",
        "      training=is_training,\n",
        "      momentum=0.99)\n",
        "\n",
        "    for i, layer_width in enumerate(int(d) for d in _HIDDEN_LAYER_DIMS):\n",
        "      cur_layer = tf.compat.v1.layers.dense(cur_layer, units=layer_width)\n",
        "      cur_layer = tf.compat.v1.layers.batch_normalization(\n",
        "        cur_layer,\n",
        "        training=is_training,\n",
        "        momentum=0.99)\n",
        "      cur_layer = tf.nn.relu(cur_layer)\n",
        "      cur_layer = tf.compat.v1.layers.dropout(\n",
        "          inputs=cur_layer, rate=_DROPOUT_RATE, training=is_training)\n",
        "    logits = tf.compat.v1.layers.dense(cur_layer, units=_GROUP_SIZE)\n",
        "    return logits\n",
        "\n",
        "  return _score_fn"
      ],
      "execution_count": null,
      "outputs": []
    },
    {
      "cell_type": "markdown",
      "metadata": {
        "colab_type": "text",
        "id": "xQlrS6uB8_zl"
      },
      "source": [
        "## Losses, Metrics and Ranking Head"
      ]
    },
    {
      "cell_type": "markdown",
      "metadata": {
        "colab_type": "text",
        "id": "e0gt2bu7kbtS"
      },
      "source": [
        "### Evaluation Metrics\n",
        "\n",
        "We have provided an implementation of several popular Information Retrieval evaluation metrics in the TF Ranking library, which are shown [here](https://github.com/tensorflow/ranking/blob/d8c2e2e64a92923f1448cf5302c92a80bb469a20/tensorflow_ranking/python/metrics.py#L32). The user can also define a custom evaluation metric, as shown in the description below."
      ]
    },
    {
      "cell_type": "code",
      "metadata": {
        "colab_type": "code",
        "id": "YkU6o2QjkyXR",
        "colab": {}
      },
      "source": [
        "def eval_metric_fns():\n",
        "  \"\"\"Returns a dict from name to metric functions.\n",
        "\n",
        "  This can be customized as follows. Care must be taken when handling padded\n",
        "  lists.\n",
        "\n",
        "  def _auc(labels, predictions, features):\n",
        "    is_label_valid = tf_reshape(tf.greater_equal(labels, 0.), [-1, 1])\n",
        "    clean_labels = tf.boolean_mask(tf.reshape(labels, [-1, 1], is_label_valid)\n",
        "    clean_pred = tf.boolean_maks(tf.reshape(predictions, [-1, 1], is_label_valid)\n",
        "    return tf.metrics.auc(clean_labels, tf.sigmoid(clean_pred), ...)\n",
        "  metric_fns[\"auc\"] = _auc\n",
        "\n",
        "  Returns:\n",
        "    A dict mapping from metric name to a metric function with above signature.\n",
        "  \"\"\"\n",
        "  metric_fns = {}\n",
        "  metric_fns.update({\n",
        "      \"metric/ndcg@%d\" % topn: tfr.metrics.make_ranking_metric_fn(\n",
        "          tfr.metrics.RankingMetricKey.NDCG, topn=topn)\n",
        "      for topn in [1, 3, 5, 10]\n",
        "  })\n",
        "\n",
        "  return metric_fns"
      ],
      "execution_count": null,
      "outputs": []
    },
    {
      "cell_type": "markdown",
      "metadata": {
        "colab_type": "text",
        "id": "HfDMGnZY9eVO"
      },
      "source": [
        "### Ranking Losses\n",
        "\n",
        "We provide several popular ranking loss functions as part of the library, which are shown [here](https://github.com/tensorflow/ranking/blob/d8c2e2e64a92923f1448cf5302c92a80bb469a20/tensorflow_ranking/python/losses.py#L35). The user can also define a custom loss function, similar to ones in tfr.losses."
      ]
    },
    {
      "cell_type": "code",
      "metadata": {
        "colab_type": "code",
        "id": "kJSaBkxW9jZy",
        "colab": {}
      },
      "source": [
        "# Define a loss function. To find a complete list of available\n",
        "# loss functions or to learn how to add your own custom function\n",
        "# please refer to the tensorflow_ranking.losses module.\n",
        "\n",
        "_LOSS = tfr.losses.RankingLossKey.APPROX_NDCG_LOSS\n",
        "loss_fn = tfr.losses.make_loss_fn(_LOSS)"
      ],
      "execution_count": null,
      "outputs": []
    },
    {
      "cell_type": "markdown",
      "metadata": {
        "colab_type": "text",
        "id": "OUoFtZGe-pGD"
      },
      "source": [
        "### Ranking Head\n",
        "\n",
        "In the Estimator workflow, Head is an abstraction that encapsulates losses and corresponding metrics. Head easily interfaces with the Estimator, needing the user to define a scoring function and specify losses and metric computation."
      ]
    },
    {
      "cell_type": "code",
      "metadata": {
        "colab_type": "code",
        "id": "3pXnzLh_-rBb",
        "colab": {}
      },
      "source": [
        "optimizer = tf.compat.v1.train.AdagradOptimizer(\n",
        "    learning_rate=_LEARNING_RATE)\n",
        "\n",
        "def _train_op_fn(loss):\n",
        "  \"\"\"Defines train op used in ranking head.\"\"\"\n",
        "  update_ops = tf.compat.v1.get_collection(tf.compat.v1.GraphKeys.UPDATE_OPS)\n",
        "  minimize_op = optimizer.minimize(\n",
        "      loss=loss, global_step=tf.compat.v1.train.get_global_step())\n",
        "  train_op = tf.group([update_ops, minimize_op])\n",
        "  return train_op\n",
        "\n",
        "ranking_head = tfr.head.create_ranking_head(\n",
        "      loss_fn=loss_fn,\n",
        "      eval_metric_fns=eval_metric_fns(),\n",
        "      train_op_fn=_train_op_fn)"
      ],
      "execution_count": null,
      "outputs": []
    },
    {
      "cell_type": "markdown",
      "metadata": {
        "colab_type": "text",
        "id": "SGJwvyrXk-Yj"
      },
      "source": [
        "## Putting It All Together in a Model Builder\n",
        "\n",
        "We are now ready to put all of the components above together and create an `Estimator` that can be used to train and evaluate a model."
      ]
    },
    {
      "cell_type": "code",
      "metadata": {
        "colab_type": "code",
        "id": "XoR9hRWHlCR4",
        "colab": {}
      },
      "source": [
        "model_fn = tfr.model.make_groupwise_ranking_fn(\n",
        "          group_score_fn=make_score_fn(),\n",
        "          transform_fn=make_transform_fn(),\n",
        "          group_size=_GROUP_SIZE,\n",
        "          ranking_head=ranking_head)"
      ],
      "execution_count": null,
      "outputs": []
    },
    {
      "cell_type": "markdown",
      "metadata": {
        "colab_type": "text",
        "id": "7aky8RFpH-D0"
      },
      "source": [
        "### Train and evaluate the ranker"
      ]
    },
    {
      "cell_type": "code",
      "metadata": {
        "colab_type": "code",
        "id": "7tD0aNuYU8LR",
        "colab": {}
      },
      "source": [
        "def train_and_eval_fn():\n",
        "  \"\"\"Train and eval function used by `tf.estimator.train_and_evaluate`.\"\"\"\n",
        "  run_config = tf.estimator.RunConfig(\n",
        "      save_checkpoints_steps=1000)\n",
        "  ranker = tf.estimator.Estimator(\n",
        "      model_fn=model_fn,\n",
        "      model_dir=_MODEL_DIR,\n",
        "      config=run_config)\n",
        "\n",
        "  train_input_fn = lambda: input_fn(_TRAIN_DATA_PATH)\n",
        "  eval_input_fn = lambda: input_fn(_TEST_DATA_PATH, num_epochs=1)\n",
        "\n",
        "  train_spec = tf.estimator.TrainSpec(\n",
        "      input_fn=train_input_fn, max_steps=_NUM_TRAIN_STEPS)\n",
        "  eval_spec =  tf.estimator.EvalSpec(\n",
        "          name=\"eval\",\n",
        "          input_fn=eval_input_fn,\n",
        "          throttle_secs=15)\n",
        "  return (ranker, train_spec, eval_spec)"
      ],
      "execution_count": null,
      "outputs": []
    },
    {
      "cell_type": "code",
      "metadata": {
        "colab_type": "code",
        "id": "uXoA7xwuVmCD",
        "colab": {}
      },
      "source": [
        "! rm -rf \"/tmp/ranking_model_dir\"  # Clean up the model directory.\n",
        "ranker, train_spec, eval_spec = train_and_eval_fn()\n",
        "tf.estimator.train_and_evaluate(ranker, train_spec, eval_spec)"
      ],
      "execution_count": null,
      "outputs": []
    },
    {
      "cell_type": "markdown",
      "metadata": {
        "colab_type": "text",
        "id": "45WYaJNaGfLM"
      },
      "source": [
        "### Launch TensorBoard"
      ]
    },
    {
      "cell_type": "code",
      "metadata": {
        "colab_type": "code",
        "id": "sHfuUVQ5D1jq",
        "colab": {}
      },
      "source": [
        "%load_ext tensorboard\n",
        "%tensorboard --logdir=\"/tmp/ranking_model_dir\" --port 12345"
      ],
      "execution_count": null,
      "outputs": []
    },
    {
      "cell_type": "markdown",
      "metadata": {
        "colab_type": "text",
        "id": "S1s1BKWSP8p_"
      },
      "source": [
        "A sample tensorboard output is shown here, with the ranking metrics.\n",
        "\n",
        "![tensorboard](https://user-images.githubusercontent.com/3262617/60866646-be0edc00-a1dd-11e9-9599-eefb734ce801.png)\n"
      ]
    },
    {
      "cell_type": "markdown",
      "metadata": {
        "colab_type": "text",
        "id": "b1QymoFfDNr7"
      },
      "source": [
        "## Generating Predictions"
      ]
    },
    {
      "cell_type": "markdown",
      "metadata": {
        "colab_type": "text",
        "id": "QqHmehSKDOg1"
      },
      "source": [
        "We show how to generate predictions over the features of a dataset. We assume that the label is not present and needs to be inferred using the ranking model.\n",
        "\n",
        "Similar to the `input_fn` used for training and evaluation,  `predict_input_fn` reads in data in ELWC format and stored as TFRecords to generate features. We set number of epochs to be 1, so that the generator stops iterating when it reaches the end of the dataset. Also the datapoints are not shuffled while reading, so that the behavior of the `predict()` function is deterministic."
      ]
    },
    {
      "cell_type": "code",
      "metadata": {
        "colab_type": "code",
        "id": "vF-4BiTnDRou",
        "colab": {}
      },
      "source": [
        "def predict_input_fn(path):\n",
        "  context_feature_spec = tf.feature_column.make_parse_example_spec(\n",
        "        context_feature_columns().values())\n",
        "  example_feature_spec = tf.feature_column.make_parse_example_spec(\n",
        "        list(example_feature_columns().values()))\n",
        "  dataset = tfr.data.build_ranking_dataset(\n",
        "        file_pattern=path,\n",
        "        data_format=tfr.data.ELWC,\n",
        "        batch_size=_BATCH_SIZE,\n",
        "        list_size=_LIST_SIZE,\n",
        "        context_feature_spec=context_feature_spec,\n",
        "        example_feature_spec=example_feature_spec,\n",
        "        reader=tf.data.TFRecordDataset,\n",
        "        shuffle=False,\n",
        "        num_epochs=1)\n",
        "  features = tf.compat.v1.data.make_one_shot_iterator(dataset).get_next()\n",
        "  return features"
      ],
      "execution_count": null,
      "outputs": []
    },
    {
      "cell_type": "markdown",
      "metadata": {
        "colab_type": "text",
        "id": "lVpLTPp-DVTi"
      },
      "source": [
        "We generate predictions on the test dataset, where we only consider context and example features and predict the labels. The `predict_input_fn` generates predictions on a batch of datapoints. Batching allows us to iterate over large datasets which cannot be loaded in memory."
      ]
    },
    {
      "cell_type": "code",
      "metadata": {
        "colab_type": "code",
        "id": "KVdlImkADTvK",
        "colab": {}
      },
      "source": [
        "predictions = ranker.predict(input_fn=lambda: predict_input_fn(\"/tmp/test.tfrecords\"))"
      ],
      "execution_count": null,
      "outputs": []
    },
    {
      "cell_type": "markdown",
      "metadata": {
        "colab_type": "text",
        "id": "vXh8knanDdd1"
      },
      "source": [
        "`ranker.predict` returns a generator, which we can iterate over to create predictions, till the generator is exhausted."
      ]
    },
    {
      "cell_type": "code",
      "metadata": {
        "colab_type": "code",
        "id": "cROuS7-8Dd-r",
        "colab": {}
      },
      "source": [
        "x = next(predictions)\n",
        "assert(len(x) == _LIST_SIZE)  ## Note that this includes padding."
      ],
      "execution_count": null,
      "outputs": []
    }
  ]
}